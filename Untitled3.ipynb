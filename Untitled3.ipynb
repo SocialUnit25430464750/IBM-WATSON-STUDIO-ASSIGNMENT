{
 "cells": [
  {
   "cell_type": "markdown",
   "id": "7021113d-b430-4527-8db8-89bcdd0a14b4",
   "metadata": {},
   "source": [
    "# My Jupyter Notebook on IBM Watson Studio"
   ]
  },
  {
   "cell_type": "markdown",
   "id": "8faa1d9a-5c7d-40bc-8957-86e34fd79dbb",
   "metadata": {},
   "source": [
    "__Moses Ojuang Sichach__\n",
    "AI MARKETER"
   ]
  },
  {
   "cell_type": "markdown",
   "id": "f82d03f8-0e3f-4ef1-83fc-626bed4ad463",
   "metadata": {},
   "source": [
    "_Data science provides the foundation necessary to learning Artificial Itelligence which I can then apply to Digital Marketing_ "
   ]
  },
  {
   "cell_type": "markdown",
   "id": "d298a5df-48d9-4a93-8cc9-b1e390a67c2e",
   "metadata": {},
   "source": [
    "### The code on h5 is supposes to add 2 and 2"
   ]
  },
  {
   "cell_type": "code",
   "execution_count": 11,
   "id": "3f4026af-0479-4697-ac84-02b76d156fa5",
   "metadata": {},
   "outputs": [
    {
     "data": {
      "text/plain": [
       "4"
      ]
     },
     "execution_count": 11,
     "metadata": {},
     "output_type": "execute_result"
    }
   ],
   "source": [
    "2+2"
   ]
  },
  {
   "cell_type": "markdown",
   "id": "adf56726-6269-44f5-aa90-9db621238f0a",
   "metadata": {},
   "source": [
    "This is the Question For Line Six\n",
    "___\n",
    " - It was lit \n",
    " 'great guy'\n",
    " \n",
    " 1. Me \n",
    " 2.  Myself"
   ]
  },
  {
   "cell_type": "code",
   "execution_count": null,
   "id": "b42bba68-8999-4d98-9160-6721c47b3a34",
   "metadata": {},
   "outputs": [],
   "source": []
  }
 ],
 "metadata": {
  "kernelspec": {
   "display_name": "Python 3 (ipykernel)",
   "language": "python",
   "name": "python3"
  },
  "language_info": {
   "codemirror_mode": {
    "name": "ipython",
    "version": 3
   },
   "file_extension": ".py",
   "mimetype": "text/x-python",
   "name": "python",
   "nbconvert_exporter": "python",
   "pygments_lexer": "ipython3",
   "version": "3.9.13"
  }
 },
 "nbformat": 4,
 "nbformat_minor": 5
}
